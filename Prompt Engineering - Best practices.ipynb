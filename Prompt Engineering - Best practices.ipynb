{
 "cells": [
  {
   "cell_type": "code",
   "execution_count": null,
   "id": "f7a0f307",
   "metadata": {},
   "outputs": [],
   "source": [
    "!pip install openai"
   ]
  },
  {
   "cell_type": "code",
   "execution_count": 37,
   "id": "6560fa6c",
   "metadata": {},
   "outputs": [],
   "source": [
    "import openai\n",
    "import os\n",
    "\n",
    "from dotenv import load_dotenv, find_dotenv\n",
    "_ = load_dotenv(find_dotenv())\n",
    "\n",
    "openai.api_key  = os.getenv('OPENAI_API_KEY')"
   ]
  },
  {
   "cell_type": "code",
   "execution_count": 38,
   "id": "a5ac1d83",
   "metadata": {},
   "outputs": [],
   "source": [
    "from openai import OpenAI\n",
    "client = OpenAI(api_key=os.getenv('OPENAI_API_KEY'))\n",
    "\n",
    "def get_completion(prompt, model=\"gpt-3.5-turbo\"):\n",
    "    messages = [{\"role\": \"user\", \"content\": prompt}]\n",
    "    response = client.chat.completions.create(\n",
    "        model=model,\n",
    "        messages=messages,\n",
    "        temperature=0\n",
    "    )\n",
    "    return response.choices[0].message.content"
   ]
  },
  {
   "cell_type": "markdown",
   "id": "7229ab57",
   "metadata": {},
   "source": [
    "# Best Practices for effective Prompts  \n",
    "\n",
    "## 1: Be clear and specific. To distinguish between different part of prompts, use delimiters."
   ]
  },
  {
   "cell_type": "code",
   "execution_count": 39,
   "id": "088b21c0",
   "metadata": {},
   "outputs": [
    {
     "name": "stdout",
     "output_type": "stream",
     "text": [
      "The text discusses how Sora combines a diffusion model with a transformer architecture, as used by GPT, to improve video generation by leveraging the strengths of each model type. Diffusion models excel at generating low-level texture while transformers are better at global composition. In Sora, the transformer organizes patches of images while the diffusion model generates content for each patch, with a dimensionality reduction step to make video generation computationally feasible.\n"
     ]
    }
   ],
   "source": [
    "text = f\"\"\"\n",
    "Sora combines the use of a diffusion model with a transformer architecture, as used by GPT.\n",
    "\n",
    "When combining these two model types, Jack Qiao noted that \"diffusion models are great at generating low-level texture\n",
    "but poor at global composition, while transformers have the opposite problem.\" That is, you want a GPT-like transformer \n",
    "model to determine the high-level layout of the video frames and a diffusion model to create the details.\n",
    "\n",
    "In a technical article on the implementation of Sora, OpenAI provides a high-level description of how this combination works.\n",
    "In diffusion models, images are broken down into smaller rectangular \"patches.\" For video, these patches are \n",
    "three-dimensional because they persist through time. Patches can be thought of as the equivalent of \"tokens\" in\n",
    "large language models: rather than being a component of a sentence, they are a component of a set of images. \n",
    "The transformer part of the model organizes the patches, and the diffusion part of the model generates the content for \n",
    "each patch.\n",
    "\n",
    "Another quirk of this hybrid architecture is that to make video generation computationally feasible, the process of \n",
    "creating patches uses a dimensionality reduction step so that computation does not need to happen on every single pixel\n",
    "for every single frame.\n",
    "\"\"\"\n",
    "prompt = f\"\"\"\n",
    "Summarize the text delimited by triple backticks.\n",
    "```{text}```\n",
    "\"\"\"\n",
    "response = get_completion(prompt)\n",
    "print(response)"
   ]
  },
  {
   "cell_type": "markdown",
   "id": "5e681343",
   "metadata": {},
   "source": [
    "## 2: Word/Sentence limit"
   ]
  },
  {
   "cell_type": "code",
   "execution_count": 40,
   "id": "328dd3f0",
   "metadata": {},
   "outputs": [
    {
     "name": "stdout",
     "output_type": "stream",
     "text": [
      "Sora combines diffusion and transformer models to address texture and composition issues in video generation. Diffusion models handle details while transformers manage high-level layout. Patches in diffusion models are like tokens in language models. A dimensionality reduction step makes video generation computationally feasible by reducing computation on every pixel.\n"
     ]
    }
   ],
   "source": [
    "text = f\"\"\"\n",
    "Sora combines the use of a diffusion model with a transformer architecture, as used by GPT.\n",
    "\n",
    "When combining these two model types, Jack Qiao noted that \"diffusion models are great at generating low-level texture\n",
    "but poor at global composition, while transformers have the opposite problem.\" That is, you want a GPT-like transformer \n",
    "model to determine the high-level layout of the video frames and a diffusion model to create the details.\n",
    "\n",
    "In a technical article on the implementation of Sora, OpenAI provides a high-level description of how this combination works.\n",
    "In diffusion models, images are broken down into smaller rectangular \"patches.\" For video, these patches are \n",
    "three-dimensional because they persist through time. Patches can be thought of as the equivalent of \"tokens\" in\n",
    "large language models: rather than being a component of a sentence, they are a component of a set of images. \n",
    "The transformer part of the model organizes the patches, and the diffusion part of the model generates the content for \n",
    "each patch.\n",
    "\n",
    "Another quirk of this hybrid architecture is that to make video generation computationally feasible, the process of \n",
    "creating patches uses a dimensionality reduction step so that computation does not need to happen on every single pixel\n",
    "for every single frame.\n",
    "\"\"\"\n",
    "prompt = f\"\"\"\n",
    "Summarize the text delimited by triple backticks into 50 words.\n",
    "```{text}```\n",
    "\"\"\"\n",
    "response = get_completion(prompt)\n",
    "print(response)"
   ]
  },
  {
   "cell_type": "code",
   "execution_count": 41,
   "id": "8405de43",
   "metadata": {},
   "outputs": [
    {
     "name": "stdout",
     "output_type": "stream",
     "text": [
      "49\n"
     ]
    }
   ],
   "source": [
    "print(len(response.split(\" \")))"
   ]
  },
  {
   "cell_type": "markdown",
   "id": "90f3f099",
   "metadata": {},
   "source": [
    "## 3: Add a role to set the tone"
   ]
  },
  {
   "cell_type": "markdown",
   "id": "6dfe4e5d",
   "metadata": {},
   "source": [
    "Model will more likely adopt the role of a marketing expert to lean more on persuasion, positivity,\n",
    "and relationship building:"
   ]
  },
  {
   "cell_type": "code",
   "execution_count": 42,
   "id": "8d2dbfa3",
   "metadata": {},
   "outputs": [
    {
     "name": "stdout",
     "output_type": "stream",
     "text": [
      "Subject: Update on Delivery Schedule\n",
      "\n",
      "Dear [Client],\n",
      "\n",
      "I hope this email finds you well. I am writing to inform you about a delay in the delivery schedule of your order. Unfortunately, we have encountered some logistical problems that have impacted our ability to deliver your items on time.\n",
      "\n",
      "We sincerely apologize for any inconvenience this may cause and want to assure you that we are working diligently to resolve the issue as quickly as possible. Our team is actively working on finding alternative solutions to ensure that your order is delivered to you as soon as possible.\n",
      "\n",
      "We understand the importance of timely delivery and we appreciate your understanding and patience during this time. We will keep you updated on the progress and provide you with a new estimated delivery date as soon as possible.\n",
      "\n",
      "If you have any questions or concerns, please feel free to reach out to us. Thank you for your understanding and continued support.\n",
      "\n",
      "Best regards,\n",
      "\n",
      "[Your Name]\n",
      "[Delivery Partner Company]\n"
     ]
    }
   ],
   "source": [
    "prompt = f\"\"\"\n",
    "You are a delivery partner. \n",
    "`Draft an email to a client informing them about a delay in the delivery schedule due to logistical problems.`\n",
    "\"\"\"\n",
    "response = get_completion(prompt)\n",
    "print(response)\n"
   ]
  },
  {
   "cell_type": "code",
   "execution_count": null,
   "id": "c5e2ec00",
   "metadata": {},
   "outputs": [],
   "source": []
  },
  {
   "cell_type": "markdown",
   "id": "a07b4a40",
   "metadata": {},
   "source": [
    "Model will more likely adopt the role of a customer service representative and \n",
    "result to a more relational and solution-oriented output."
   ]
  },
  {
   "cell_type": "code",
   "execution_count": 43,
   "id": "742c8e8e",
   "metadata": {},
   "outputs": [
    {
     "name": "stdout",
     "output_type": "stream",
     "text": [
      "Subject: Update on Your Delivery Schedule\n",
      "\n",
      "Dear [Client],\n",
      "\n",
      "I hope this email finds you well. I am writing to inform you about a delay in the delivery schedule of your order. Unfortunately, we have encountered some logistical problems that have impacted our ability to deliver your order on time.\n",
      "\n",
      "We sincerely apologize for any inconvenience this may cause you. Our team is working diligently to resolve these issues and expedite the delivery process as much as possible. We understand the importance of timely delivery and are doing everything we can to minimize the delay.\n",
      "\n",
      "We will keep you updated on the progress and provide you with a new estimated delivery date as soon as possible. If you have any questions or concerns, please feel free to reach out to us at [contact information].\n",
      "\n",
      "Thank you for your understanding and patience. We appreciate your business and are committed to ensuring a smooth delivery process for you.\n",
      "\n",
      "Best regards,\n",
      "\n",
      "[Your Name]\n",
      "Customer Service Representative\n",
      "[Company Name]\n"
     ]
    }
   ],
   "source": [
    "prompt = f\"\"\"\n",
    "You are a customer service representative. \n",
    "`Draft an email to a client informing them about a delay in the delivery schedule due to logistical problems.`\n",
    "\"\"\"\n",
    "response = get_completion(prompt)\n",
    "print(response)"
   ]
  },
  {
   "cell_type": "markdown",
   "id": "5890c308",
   "metadata": {},
   "source": [
    "## 4: Introduce if-else conditions to handle different scenarios and responses"
   ]
  },
  {
   "cell_type": "code",
   "execution_count": 44,
   "id": "b8da2db0",
   "metadata": {},
   "outputs": [
    {
     "name": "stdout",
     "output_type": "stream",
     "text": [
      "Completion for Text 1:\n",
      "Dear valued customer,\n",
      "\n",
      "Thank you for taking the time to share your positive experience at P&G Beauty Salon. We are delighted to hear that Urmi and Kenny were able to provide you with punctual and professional service. Your satisfaction is our top priority, and we are committed to delivering high-quality work to all our customers. We look forward to serving you again in the future.\n",
      "\n",
      "Thank you for choosing P&G Beauty Salon.\n",
      "\n",
      "Warm regards,\n",
      "[Your Name]\n",
      "Customer Service Team\n",
      "P&G Beauty Salon\n"
     ]
    }
   ],
   "source": [
    "text_1 = f\"\"\"\n",
    "P&G Beauty Salon is my new favorite. My previous salon kept me waiting for more than 30 minutes\n",
    "even if I had already booked the appointment online. I am a working professional and can’t afford to waste\n",
    "my one hour for a 10-minute eyebrow. While Urmi and Kenny are very punctual and never keep me waiting no matter \n",
    "how many walk-ins they have. I highly appreciate their professionalism and the quality of work they provide.\n",
    "\"\"\"\n",
    "prompt = f\"\"\"\n",
    "You are a customer service representative. \n",
    "You will be provided with review delimited by triple backtiks. \n",
    "\n",
    "If review contains positive or neutral sentiment,\n",
    "write thank you email in formal tone.\n",
    "\n",
    "If it contains negative sentiment,\n",
    "write apology email.\n",
    "\n",
    "```{text_1}```\n",
    "\"\"\"\n",
    "response = get_completion(prompt)\n",
    "print(\"Completion for Text 1:\")\n",
    "print(response)"
   ]
  },
  {
   "cell_type": "code",
   "execution_count": 45,
   "id": "69214271",
   "metadata": {},
   "outputs": [
    {
     "name": "stdout",
     "output_type": "stream",
     "text": [
      "Completion for Text 2:\n",
      "Dear valued customer,\n",
      "\n",
      "We are truly sorry to hear about your negative experience at our beauty salon. We strive to provide top-notch service to all our customers and it is disappointing to hear that we fell short in your case. Your feedback is extremely important to us and we will be taking immediate steps to address the issues you have raised.\n",
      "\n",
      "We sincerely apologize for the inconvenience and stress you experienced during your visit. We understand the importance of a relaxing and enjoyable salon experience and we regret that we did not meet your expectations.\n",
      "\n",
      "Please know that we are committed to improving our services and we hope to have the opportunity to make it up to you in the future. If you would be willing to give us another chance, we would love to offer you a complimentary service as a gesture of goodwill.\n",
      "\n",
      "Thank you for bringing this to our attention and we hope to have the chance to regain your trust in the future.\n",
      "\n",
      "Warm regards,\n",
      "[Your Name]\n",
      "Customer Service Team\n"
     ]
    }
   ],
   "source": [
    "text_2 = f\"\"\"\n",
    "this beauty salon has to be the worst experience ever. Bad service, the pedicure was a joke. \n",
    "The timing was ridiculous ( they kept me waiting around forever) I left this salon with a headache from the stress \n",
    "i had there. Worst pedicure I've ever had - please it's an insult to charge what they did for the service received. \n",
    "The staff are unfriendly and an awful atmosphere. I would never return to this salon even if they offered me a free service.\n",
    "They are desperate for customers and I see why.\n",
    "\"\"\"\n",
    "\n",
    "prompt = f\"\"\"\n",
    "You are a customer service representative. \n",
    "You will be provided with review delimited by triple backtiks. \n",
    "\n",
    "If review contains positive or neutral sentiment,\n",
    "write thank you email in formal tone.\n",
    "\n",
    "If it contains negative sentiment,\n",
    "write apology email.\n",
    "\n",
    "```{text_2}```\n",
    "\"\"\"\n",
    "response = get_completion(prompt)\n",
    "print(\"Completion for Text 2:\")\n",
    "print(response)"
   ]
  },
  {
   "cell_type": "markdown",
   "id": "c14cd8af",
   "metadata": {},
   "source": [
    "## 5: Provide explicit instructions for the desired output format"
   ]
  },
  {
   "cell_type": "code",
   "execution_count": 47,
   "id": "a6e94eb7",
   "metadata": {},
   "outputs": [
    {
     "name": "stdout",
     "output_type": "stream",
     "text": [
      "<!DOCTYPE html>\n",
      "<html>\n",
      "<head>\n",
      "<title>Top Hit Movies</title>\n",
      "</head>\n",
      "<body>\n",
      "\n",
      "<table>\n",
      "  <tr>\n",
      "    <th>Movie Name</th>\n",
      "    <th>Actor</th>\n",
      "    <th>Genre</th>\n",
      "  </tr>\n",
      "  <tr>\n",
      "    <td>Avatar</td>\n",
      "    <td>Sam Worthington</td>\n",
      "    <td>Science Fiction</td>\n",
      "  </tr>\n",
      "  <tr>\n",
      "    <td>Titanic</td>\n",
      "    <td>Leonardo DiCaprio</td>\n",
      "    <td>Romance</td>\n",
      "  </tr>\n",
      "  <tr>\n",
      "    <td>Star Wars: The Force Awakens</td>\n",
      "    <td>Daisy Ridley</td>\n",
      "    <td>Action</td>\n",
      "  </tr>\n",
      "  <tr>\n",
      "    <td>Jurassic Park</td>\n",
      "    <td>Sam Neill</td>\n",
      "    <td>Adventure</td>\n",
      "  </tr>\n",
      "  <tr>\n",
      "    <td>The Avengers</td>\n",
      "    <td>Robert Downey Jr.</td>\n",
      "    <td>Superhero</td>\n",
      "  </tr>\n",
      "</table>\n",
      "\n",
      "</body>\n",
      "</html>\n"
     ]
    }
   ],
   "source": [
    "prompt = f\"\"\"\n",
    "Generate a list of all time hit movies along  \n",
    "with actor and genres. \n",
    "Provide them in HTML format with the following keys: \n",
    "movie name , actor, genre.\n",
    "\"\"\"\n",
    "response = get_completion(prompt)\n",
    "print(response)"
   ]
  },
  {
   "cell_type": "code",
   "execution_count": 48,
   "id": "2b8d30f7",
   "metadata": {},
   "outputs": [
    {
     "data": {
      "text/html": [
       "<!DOCTYPE html>\n",
       "<html>\n",
       "<head>\n",
       "<title>Top Hit Movies</title>\n",
       "</head>\n",
       "<body>\n",
       "\n",
       "<table>\n",
       "  <tr>\n",
       "    <th>Movie Name</th>\n",
       "    <th>Actor</th>\n",
       "    <th>Genre</th>\n",
       "  </tr>\n",
       "  <tr>\n",
       "    <td>Avatar</td>\n",
       "    <td>Sam Worthington</td>\n",
       "    <td>Science Fiction</td>\n",
       "  </tr>\n",
       "  <tr>\n",
       "    <td>Titanic</td>\n",
       "    <td>Leonardo DiCaprio</td>\n",
       "    <td>Romance</td>\n",
       "  </tr>\n",
       "  <tr>\n",
       "    <td>Star Wars: The Force Awakens</td>\n",
       "    <td>Daisy Ridley</td>\n",
       "    <td>Action</td>\n",
       "  </tr>\n",
       "  <tr>\n",
       "    <td>Jurassic Park</td>\n",
       "    <td>Sam Neill</td>\n",
       "    <td>Adventure</td>\n",
       "  </tr>\n",
       "  <tr>\n",
       "    <td>The Avengers</td>\n",
       "    <td>Robert Downey Jr.</td>\n",
       "    <td>Superhero</td>\n",
       "  </tr>\n",
       "</table>\n",
       "\n",
       "</body>\n",
       "</html>"
      ],
      "text/plain": [
       "<IPython.core.display.HTML object>"
      ]
     },
     "metadata": {},
     "output_type": "display_data"
    }
   ],
   "source": [
    "from IPython.display import display, Markdown, Latex, HTML, JSON\n",
    "display(HTML(response))\n"
   ]
  },
  {
   "cell_type": "code",
   "execution_count": 51,
   "id": "9ebd87de",
   "metadata": {},
   "outputs": [
    {
     "name": "stdout",
     "output_type": "stream",
     "text": [
      "Completion for Text 1:\n",
      "Step 1 - Take egg in a mixing bowl. Add sugar, vanilla extract, milk and use a whisk to combine.\n",
      "Step 2 - Add in the flour, salt, baking powder. For pancakes, use a little extra baking powder for a fluffy texture.\n",
      "Step 3 - Mix the batter till smooth. Do not overmix the batter.\n",
      "Step 4 - Mix the melted butter into the pancake batter.\n",
      "Step 5 - Heat a pan on medium high heat. You can use a nonstick pan or cast-iron pan for making pancakes.\n",
      "Step 6 - Once the pan is hot, pour a ladleful of batter into the pan and cook on medium heat until you see bubbles forming on top.\n",
      "Step 7 - Flip the pancakes once you see bubbles and cook for a few more seconds.\n"
     ]
    }
   ],
   "source": [
    "# Text with a series of steps. s,\n",
    "text_1 = f\"\"\"\n",
    "Take egg in a mixing bowl. Add sugar, vanilla extract, milk and use a whisk to combine. \n",
    "Now add in the flour, salt, baking powder. For pancakes you have to use little extra baking powder for fluffy texture. \n",
    "Mix the batter till smooth. Don’t over the batter. Mix the melted butter into the pancake batter. \n",
    "Now heat a pan. You can use nonstick pan or cast-iron pan for making pancakes. Heat the pan on medium high heat. \n",
    "Once the pan is hot, pour ladleful of batter into the pan and cook on medium heat till you see bubbles forming on top. \n",
    "Once you see bubbles on the pancakes, you can flip the pancakes and cook for few more seconds.\n",
    "\"\"\"\n",
    "\n",
    "prompt = f\"\"\"\n",
    "You will be provided with text delimited by triple backticks. \n",
    "If it contains a sequence of instructions,  \n",
    "re-write those instructions in the following format:\n",
    "\n",
    "Step 1 - ...\n",
    "Step 2 - …\n",
    "…\n",
    "Step N - …\n",
    "\n",
    "If the text does not contain a sequence of instructions,  \n",
    "then write \"No steps provided.\"\n",
    "\n",
    "```{text_1}```\n",
    "\"\"\"\n",
    "\n",
    "response = get_completion(prompt)\n",
    "print(\"Completion for Text 1:\")\n",
    "print(response)"
   ]
  },
  {
   "cell_type": "code",
   "execution_count": 52,
   "id": "ca93b70e",
   "metadata": {},
   "outputs": [
    {
     "name": "stdout",
     "output_type": "stream",
     "text": [
      "Completion for Text 1:\n",
      "No steps provided.\n"
     ]
    }
   ],
   "source": [
    "# Text with a series of steps. s,\n",
    "text_1 = f\"\"\"\n",
    "this beauty salon has to be the worst experience ever. Bad service, the pedicure was a joke. \n",
    "The timing was ridiculous ( they kept me waiting around forever) I left this salon with a headache from the stress \n",
    "i had there. Worst pedicure I've ever had - please it's an insult to charge what they did for the service received. \n",
    "The staff are unfriendly and an awful atmosphere. I would never return to this salon even if they offered me a free service.\n",
    "They are desperate for customers and I see why.\n",
    "\"\"\"\n",
    "\n",
    "prompt = f\"\"\"\n",
    "You will be provided with text delimited by triple backticks. \n",
    "If it contains a sequence of instructions,  \n",
    "re-write those instructions in the following format:\n",
    "\n",
    "Step 1 - ...\n",
    "Step 2 - …\n",
    "…\n",
    "Step N - …\n",
    "\n",
    "If the text does not contain a sequence of instructions,  \n",
    "then write \"No steps provided.\"\n",
    "\n",
    "```{text_1}```\n",
    "\"\"\"\n",
    "\n",
    "response = get_completion(prompt)\n",
    "print(\"Completion for Text 1:\")\n",
    "print(response)"
   ]
  },
  {
   "cell_type": "markdown",
   "id": "1fdb79d1",
   "metadata": {},
   "source": [
    "## 6: Zero-shot & Few-shot prompting"
   ]
  },
  {
   "cell_type": "markdown",
   "id": "25a8b19b",
   "metadata": {},
   "source": [
    "Few-shot prompting is a prompt engineering technique where we provide example tasks and their expected solutions \n",
    "in our prompt. So, instead of just describing the task like you did before(Zero-shot), we will add a few examples.\n",
    "A main use case for few-shot prompting is when we need the output to be structured in a particular way which is difficult to describe to the model. "
   ]
  },
  {
   "cell_type": "code",
   "execution_count": 53,
   "id": "53dea463",
   "metadata": {},
   "outputs": [
    {
     "name": "stdout",
     "output_type": "stream",
     "text": [
      "It is quite challenging to locate a satisfactory dining establishment in this vicinity, would you not agree?\n"
     ]
    }
   ],
   "source": [
    "text = f\"\"\"\n",
    "It's really hard to find a decent place to eat around here, don't you think?\n",
    "\"\"\"\n",
    "\n",
    "prompt = f\"\"\"\n",
    "Your task is to answer in a consistent style.\n",
    "You will be provided with informal sentence delimited by triple backtiks.\n",
    "Rewrite the informal sentences in a formal writing style.\n",
    "\n",
    "Example 1: Informal: Hey, what's up? I just wanted to let you know I won't be able to make it today. \n",
    "           Formal: Greetings, I regret to inform you that I will not be able to attend the event today.\n",
    "\n",
    "Example 2: Informal: The movie was pretty cool, but the ending was kinda confusing. \n",
    "           Formal: The film was rather impressive; however, the conclusion was somewhat perplexing.\n",
    "\n",
    "Example 3: Informal: I gotta say, this new phone's camera is sick! \n",
    "           Formal: I must admit, the camera on this new phone is quite remarkable.\n",
    "\n",
    "```{text}```\n",
    "\"\"\"\n",
    "response = get_completion(prompt)\n",
    "print(response)\n"
   ]
  },
  {
   "cell_type": "markdown",
   "id": "cf220073",
   "metadata": {},
   "source": [
    "## 7: Specify the steps required to complete a task"
   ]
  },
  {
   "cell_type": "code",
   "execution_count": 56,
   "id": "2678fe5e",
   "metadata": {},
   "outputs": [
    {
     "name": "stdout",
     "output_type": "stream",
     "text": [
      "Completion for prompt 1:\n",
      "1 - Priti Gupta has 16 years of experience in data, analytics, and AI. She is passionate about AI, Data Science, Machine Learning, Deep Learning, and GenAI, and enjoys teaching and empowering individuals.\n",
      "\n",
      "2 - Priti Gupta hat 16 Jahre Erfahrung in Daten, Analytik und KI. Sie ist leidenschaftlich für KI, Datenwissenschaft, maschinelles Lernen, Deep Learning und GenAI und genießt es, Einzelpersonen zu unterrichten und zu stärken.\n",
      "\n",
      "3 - Priti, Gupta, Jahre, Erfahrung, Daten, Analytik, KI, Leidenschaft, Datenwissenschaft, maschinelles Lernen, Deep Learning, GenAI, Einzelpersonen\n",
      "\n",
      "4 - \n",
      "{\n",
      "  \"German_summary\": \"Priti Gupta hat 16 Jahre Erfahrung in Daten, Analytik und KI. Sie ist leidenschaftlich für KI, Datenwissenschaft, maschinelles Lernen, Deep Learning und GenAI und genießt es, Einzelpersonen zu unterrichten und zu stärken.\",\n",
      "  \"num_nouns\": 13\n",
      "}\n"
     ]
    }
   ],
   "source": [
    "text = f\"\"\"\n",
    "Priti Gupta is dedicated to preparing individuals for the next level of their careers, ensuring that no one is left behind.\n",
    "With more than 16 years of cross-industry and cross-technological experience in data, analytics, and artificial intelligence\n",
    "(AI), she brings a wealth of expertise. Priti is particularly passionate about areas such as Artificial Intelligence,\n",
    "Data Science, Machine Learning, Deep Learning, and GenAI. Her enthusiasm extends to teaching and empowering individuals \n",
    "to realize their dreams.\n",
    "\"\"\"\n",
    "# example 1\n",
    "prompt_1 = f\"\"\"\n",
    "Perform the following actions: \n",
    "1 - Summarize the following text delimited by triple backticks with 30 words.\n",
    "2 - Translate the summary into German.\n",
    "3 - List each noun from the German summary.\n",
    "4 - Output a json object that contains the following \\\n",
    "keys: German_summary, num_nouns.\n",
    "\n",
    "Separate your answers with line breaks.\n",
    "\n",
    "Text:\n",
    "```{text}```\n",
    "\"\"\"\n",
    "response = get_completion(prompt_1)\n",
    "print(\"Completion for prompt 1:\")\n",
    "print(response)"
   ]
  },
  {
   "cell_type": "markdown",
   "id": "f91aeaf6",
   "metadata": {},
   "source": [
    "## 8: Instruct Model to figure out its own solution before drawing any conclusion"
   ]
  },
  {
   "cell_type": "code",
   "execution_count": 57,
   "id": "6e92e230",
   "metadata": {},
   "outputs": [
    {
     "name": "stdout",
     "output_type": "stream",
     "text": [
      "The student's solution is correct. The total cost for the first year of operations as a function of the number of square feet is indeed 450x + 100,000.\n"
     ]
    }
   ],
   "source": [
    "prompt = f\"\"\"\n",
    "Determine if the student's solution is correct or not.\n",
    "\n",
    "Question:\n",
    "I'm building a solar power installation and I need help working out the financials. \n",
    "- Land costs $100 / square foot\n",
    "- I can buy solar panels for $250 / square foot\n",
    "- I negotiated a contract for maintenance that will cost me a flat $100k per year, and an additional $10 / square foot\n",
    "What is the total cost for the first year of operations as a function of the number of square feet.\n",
    "\n",
    "Student's Solution:\n",
    "Let x be the size of the installation in square feet.\n",
    "Costs:\n",
    "1. Land cost: 100x\n",
    "2. Solar panel cost: 250x\n",
    "3. Maintenance cost: 100,000 + 100x\n",
    "Total cost: 100x + 250x + 100,000 + 100x = 450x + 100,000\n",
    "\"\"\"\n",
    "response = get_completion(prompt)\n",
    "print(response)"
   ]
  },
  {
   "cell_type": "code",
   "execution_count": 58,
   "id": "db591b58",
   "metadata": {},
   "outputs": [
    {
     "name": "stdout",
     "output_type": "stream",
     "text": [
      "Let x be the size of the installation in square feet.\n",
      "\n",
      "Costs:\n",
      "1. Land cost: $100 * x\n",
      "2. Solar panel cost: $250 * x\n",
      "3. Maintenance cost: $100,000 + $10 * x\n",
      "\n",
      "Total cost: $100 * x + $250 * x + $100,000 + $10 * x = $360 * x + $100,000\n",
      "```\n",
      "The total cost for the first year of operations is $360 * x + $100,000\n",
      "```\n",
      "Is the student's solution the same as actual solution just calculated:\n",
      "```\n",
      "No\n",
      "```\n",
      "Student grade:\n",
      "```\n",
      "incorrect\n",
      "```\n"
     ]
    }
   ],
   "source": [
    "prompt = f\"\"\"\n",
    "Your task is to determine if the student's solution is correct or not.\n",
    "To solve the problem do the following:\n",
    "- First, work out your own solution to the problem including the final total. \n",
    "- Then compare your solution to the student's solution and evaluate if the student's solution is correct or not. \n",
    "Don't decide if the student's solution is correct until you have done the problem yourself.\n",
    "\n",
    "Use the following format:\n",
    "Question:\n",
    "```\n",
    "question here\n",
    "```\n",
    "Student's solution:\n",
    "```\n",
    "student's solution here\n",
    "```\n",
    "Actual solution:\n",
    "```\n",
    "steps to work out the solution and your solution here\n",
    "```\n",
    "Is the student's solution the same as actual solution \\\n",
    "just calculated:\n",
    "```\n",
    "yes or no\n",
    "```\n",
    "Student grade:\n",
    "```\n",
    "correct or incorrect\n",
    "```\n",
    "\n",
    "Question:\n",
    "```\n",
    "I'm building a solar power installation and I need help working out the financials. \n",
    "- Land costs $100 / square foot\n",
    "- I can buy solar panels for $250 / square foot\n",
    "- I negotiated a contract for maintenance that will cost me a flat $100k per year, and an additional $10 / square foot\n",
    "What is the total cost for the first year of operations as a function of the number of square feet.\n",
    "``` \n",
    "Student's solution:\n",
    "```\n",
    "Let x be the size of the installation in square feet.\n",
    "Costs:\n",
    "1. Land cost: 100x\n",
    "2. Solar panel cost: 250x\n",
    "3. Maintenance cost: 100,000 + 100x\n",
    "Total cost: 100x + 250x + 100,000 + 100x = 450x + 100,000\n",
    "```\n",
    "Actual solution:\n",
    "\"\"\"\n",
    "response = get_completion(prompt)\n",
    "print(response)"
   ]
  },
  {
   "cell_type": "code",
   "execution_count": null,
   "id": "8a8ab858",
   "metadata": {},
   "outputs": [],
   "source": []
  }
 ],
 "metadata": {
  "kernelspec": {
   "display_name": "Python 3 (ipykernel)",
   "language": "python",
   "name": "python3"
  },
  "language_info": {
   "codemirror_mode": {
    "name": "ipython",
    "version": 3
   },
   "file_extension": ".py",
   "mimetype": "text/x-python",
   "name": "python",
   "nbconvert_exporter": "python",
   "pygments_lexer": "ipython3",
   "version": "3.11.5"
  }
 },
 "nbformat": 4,
 "nbformat_minor": 5
}
